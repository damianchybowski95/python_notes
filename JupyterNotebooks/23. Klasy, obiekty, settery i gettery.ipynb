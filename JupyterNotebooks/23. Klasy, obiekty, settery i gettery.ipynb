{
 "cells": [
  {
   "cell_type": "markdown",
   "metadata": {},
   "source": [
    "### Notatka o klasach i obiektach w Pythonie\n",
    "\n",
    "W Pythonie, klasa jest szablonem do tworzenia obiektów (instancji). Klasa definiuje atrybuty i metody, które będą miały obiekty utworzone na jej podstawie.\n",
    "\n",
    "#### Definicja klasy\n",
    "\n",
    "Aby zdefiniować klasę, używamy słowa kluczowego `class`:\n",
    "\n",
    "#### Przykłady klas i obiektów w Pythonie\n",
    "\n"
   ]
  },
  {
   "cell_type": "code",
   "execution_count": 39,
   "metadata": {},
   "outputs": [
    {
     "name": "stdout",
     "output_type": "stream",
     "text": [
      "Setter for name called with value:  Alice Johnson\n",
      "Cześć, mam na imię Alice Johnson i mam 25 lat.\n",
      "Getter for age called with value:  25\n",
      "person1 ma 25 lat.\n",
      "Cześć, mam na imię Bob i mam 30 lat.\n"
     ]
    }
   ],
   "source": [
    "# Definicja klasy\n",
    "class Person:\n",
    "    def __init__(self, name = \"John Doe\", age = \"30\"):\n",
    "        self._name = name\n",
    "        self._age = age\n",
    "                \n",
    "    @property\n",
    "    def name(self):\n",
    "        print(\"Getter for name called with value: \", self._name)\n",
    "        return self._name\n",
    "    \n",
    "    @name.setter\n",
    "    def name(self, value):\n",
    "        print(\"Setter for name called with value: \", value)\n",
    "        self._name = value\n",
    "    \n",
    "    @property\n",
    "    def age(self):\n",
    "        print(\"Getter for age called with value: \", self._age)\n",
    "        return self._age\n",
    "    \n",
    "    @age.setter\n",
    "    def age(self, value):\n",
    "        print(\"Setter for age called with value: \", value)\n",
    "        self._age = value\n",
    "                \n",
    "    def greet(self):\n",
    "        return f\"Cześć, mam na imię {self._name} i mam {self._age} lat.\"\n",
    "\n",
    "# Tworzenie obiektów (instancji) klasy Person\n",
    "person1 = Person(\"Alice\", 25)\n",
    "person1.name=\"Alice Johnson\"\n",
    "print(person1.greet()) # Wywoływanie metody greet dla obiektów\n",
    "print(f\"person1 ma {person1.age} lat.\")\n",
    "\n",
    "person2 = Person(\"Bob\", 30)\n",
    "print(person2.greet())\n"
   ]
  },
  {
   "cell_type": "code",
   "execution_count": null,
   "metadata": {},
   "outputs": [],
   "source": []
  },
  {
   "cell_type": "code",
   "execution_count": null,
   "metadata": {},
   "outputs": [],
   "source": []
  },
  {
   "cell_type": "markdown",
   "metadata": {},
   "source": [
    "### Przykład getterów i setterów, ustawiających właściwości obiektów."
   ]
  },
  {
   "cell_type": "code",
   "execution_count": 3,
   "metadata": {},
   "outputs": [
    {
     "name": "stdout",
     "output_type": "stream",
     "text": [
      "Getter for name called\n",
      "Alice\n",
      "Getter for name called\n",
      "Alicja\n",
      "<bound method Person.age of <__main__.Person object at 0x000001EA3B929D10>>\n",
      "35\n"
     ]
    }
   ],
   "source": [
    "class Person:\n",
    "    def __init__(self, name, age):\n",
    "        self._name = name\n",
    "        self._age = age\n",
    "        \n",
    "    def greet(self):\n",
    "        return f\"Cześć, mam na imię {self._name} i mam {self._age} lat.\"\n",
    "    \n",
    "    # Getter for name\n",
    "    @property\n",
    "    def name(self):\n",
    "        print(\"Getter for name called\")\n",
    "        return self._name\n",
    "    \n",
    "    # Setter for name\n",
    "    @name.setter\n",
    "    def name(self, value):\n",
    "        self._name = value\n",
    "    \n",
    "    # Getter for age\n",
    "    @property\n",
    "    def age(self):\n",
    "        print(\"Getter for age called\")\n",
    "        return self._age\n",
    "    \n",
    "    # Setter for age\n",
    "    def age(self, value):\n",
    "        if value >= 0:\n",
    "            self._age = value\n",
    "        else:\n",
    "            raise ValueError(\"Wiek nie może być ujemny\")\n",
    "\n",
    "# Tworzenie obiektów (instancji) klasy Person\n",
    "person1 = Person(\"Alice\", 25)\n",
    "person2 = Person(\"Bob\", 30)\n",
    "\n",
    "# Używanie getterów i setterów\n",
    "print(person1.name)  # użycie gettera\n",
    "person1.name = \"Alicja\"  # użycie settera\n",
    "print(person1.name)  # użycie gettera\n",
    "\n",
    "print(person2.age)  # użycie gettera\n",
    "person2.age = 35  # użycie settera\n",
    "print(person2.age)  # użycie gettera"
   ]
  }
 ],
 "metadata": {
  "kernelspec": {
   "display_name": "Python 3",
   "language": "python",
   "name": "python3"
  },
  "language_info": {
   "codemirror_mode": {
    "name": "ipython",
    "version": 3
   },
   "file_extension": ".py",
   "mimetype": "text/x-python",
   "name": "python",
   "nbconvert_exporter": "python",
   "pygments_lexer": "ipython3",
   "version": "3.13.2"
  }
 },
 "nbformat": 4,
 "nbformat_minor": 2
}
