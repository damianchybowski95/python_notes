{
 "cells": [
  {
   "cell_type": "markdown",
   "metadata": {},
   "source": [
    "### Importowanie modułów\n",
    "\n",
    "```python\n",
    "import sys\n",
    "import math\n",
    "```\n",
    "\n",
    "### Tworzenie i używanie wirtualnego środowiska (venv)\n",
    "\n",
    "1. **Otwórz terminal w katalogu projektu.**\n",
    "2. **Utwórz wirtualne środowisko:**\n",
    "   ```sh\n",
    "   python -m venv .venv\n",
    "   ```\n",
    "3. **Aktywuj wirtualne środowisko**\n",
    "\n",
    "   ```sh\n",
    "   `windows` : .\\.venv\\Scripts\\activate  \n",
    "   `linux` : source .venv/bin/activate\n",
    "   ```\n",
    "\n",
    "4. **Instalowanie potrzebnych pakietów\"\n",
    "\n",
    "    ```sh\n",
    "    pip install <package_name>\n",
    "    ```\n",
    "\n",
    "5. Wyjście terminala z venv.\n",
    "\n",
    "    ```sh\n",
    "    deactivate\n"
   ]
  }
 ],
 "metadata": {
  "language_info": {
   "name": "python"
  }
 },
 "nbformat": 4,
 "nbformat_minor": 2
}
