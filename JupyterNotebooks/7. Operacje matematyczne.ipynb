{
 "cells": [
  {
   "cell_type": "markdown",
   "metadata": {},
   "source": [
    "### Operacje matematyczne"
   ]
  },
  {
   "cell_type": "code",
   "execution_count": null,
   "metadata": {},
   "outputs": [
    {
     "name": "stdout",
     "output_type": "stream",
     "text": [
      "5 + 2 =  7\n",
      "5 - 2 =  3\n",
      "5 * 2 =  10\n",
      "5 / 2 =  2.5\n",
      "5 % 2 =  1\n",
      "5 ** 2 =  25\n",
      "5 // 2 =  2\n",
      "abs(-5) =  5\n",
      "max(5, 2) =  5\n",
      "min(5, 2) =  2\n",
      "pow(5, 2) =  25\n",
      "sqrt(25) =  5.0\n",
      "floor(5.6) =  5\n",
      "ceil(5.6) =  6\n",
      "round(5.6) =  6\n",
      "exp(2) =  20.085536923187668\n",
      "log(100) =  4.605170185988092\n",
      "sin(0) =  0.0\n",
      "cos(0) =  0.0\n",
      "tan(0) =  0.0\n",
      "asin(0) =  0.0\n",
      "acos(0) =  1.5707963267948966\n",
      "atan(0) =  0.0\n",
      "sinh(0) =  0.0\n",
      "cosh(0) =  1.0\n",
      "tanh(0) =  0.0\n",
      "asinh(0) =  0.0\n",
      "acosh(0) =  0.0\n",
      "atanh(0) =  0.0\n",
      "hypot(3, 4) =  5.0\n",
      "radians(90) =  1.5707963267948966\n",
      "deegree(1.57) =  89.95437383553924\n"
     ]
    }
   ],
   "source": [
    "from math import acos, acosh, asin, asinh, atan, atanh, ceil, cosh, degrees, exp, floor, hypot, log, radians, sin, sinh, sqrt, tanh\n",
    "\n",
    "\n",
    "print(\"5 + 2 = \", 5 + 2) # Dodawanie\n",
    "print(\"5 - 2 = \", 5 - 2) # Odejmowanie\n",
    "print(\"5 * 2 = \", 5 * 2) # Mnożenie\n",
    "print(\"5 / 2 = \", 5 / 2) # Dzielenie\n",
    "print(\"5 % 2 = \", 5 % 2) # Modulo (reszta z dzielenia)\n",
    "print(\"5 ** 2 = \", 5 ** 2) # Potęgowanie\n",
    "print(\"5 // 2 = \", 5 // 2) # Dzielenie całkowite (bez reszty)\n",
    "\n",
    "# Matematyczne funkcje\n",
    "print(\"abs(-5) = \", abs(-5)) # Wartość bezwzględna\n",
    "print(\"max(5, 2) = \", max(5, 2)) # Maksimum\n",
    "print(\"min(5, 2) = \", min(5, 2)) # Minimum \n",
    "print(\"pow(5, 2) = \", pow(5, 2)) # Potęgowanie\n",
    "print(\"sqrt(25) = \", sqrt(25)) # Pierwiastek kwadratowy\n",
    "print(\"floor(5.6) = \", floor(5.6)) # Zaokrąglenie w dół\n",
    "print(\"ceil(5.6) = \", ceil(5.6)) # Zaokrąglenie w górę\n",
    "print(\"round(5.6) = \", round(5.6)) # Zaokrąglenie\n",
    "print(\"exp(2) = \", exp(3)) # Funkcja wykładnicza\n",
    "print(\"log(100) = \", log(100)) # Logarytm naturalny\n",
    "print(\"sin(0) = \", sin(0)) # Sinus\n",
    "print(\"cos(0) = \", sin(0)) # Cosinus\n",
    "print(\"tan(0) = \", sin(0)) # Tangens\n",
    "print(\"asin(0) = \", asin(0)) # Arcus sinus\n",
    "print(\"acos(0) = \", acos(0)) # Arcus cosinus\n",
    "print(\"atan(0) = \", atan(0)) # Arcus tangens\n",
    "print(\"sinh(0) = \", sinh(0)) # Sinus hiperboliczny\n",
    "print(\"cosh(0) = \", cosh(0)) # Cosinus hiperboliczny\n",
    "print(\"tanh(0) = \", tanh(0)) # Tangens hiperboliczny\n",
    "print(\"asinh(0) = \", asinh(0)) # Arcus sinus hiperboliczny\n",
    "print(\"acosh(0) = \", acosh(1)) # Arcus cosinus hiperboliczny\n",
    "print(\"atanh(0) = \", atanh(0)) # Arcus tangens hiperboliczny\n",
    "print(\"hypot(3, 4) = \", hypot(3, 4)) # Długość wektora\n",
    "print(\"radians(90) = \", radians(90)) # Konwersja stopni na radiany\n",
    "print(\"deegree(1.57) = \", degrees(1.57)) # Konwersja radianów na stopni"
   ]
  }
 ],
 "metadata": {
  "language_info": {
   "name": "python"
  }
 },
 "nbformat": 4,
 "nbformat_minor": 2
}
