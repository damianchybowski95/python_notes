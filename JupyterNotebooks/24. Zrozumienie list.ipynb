{
 "cells": [
  {
   "cell_type": "markdown",
   "metadata": {},
   "source": [
    "### Zrozumienie list w pythonie\n",
    "\n",
    "Python ma swój sposób na rozumie list."
   ]
  },
  {
   "cell_type": "code",
   "execution_count": 5,
   "metadata": {},
   "outputs": [
    {
     "name": "stdout",
     "output_type": "stream",
     "text": [
      "Hello world\n"
     ]
    }
   ],
   "source": [
    "print(\"Hello world\")"
   ]
  },
  {
   "cell_type": "code",
   "execution_count": 9,
   "metadata": {},
   "outputs": [
    {
     "name": "stdout",
     "output_type": "stream",
     "text": [
      "[1, 4, 9, 16, 25]\n",
      "[2, 4]\n",
      "[(1, 1), (2, 4), (3, 9), (4, 16), (5, 25)]\n",
      "['Number: 1', 'Number: 2', 'Number: 3', 'Number: 4', 'Number: 5']\n"
     ]
    }
   ],
   "source": [
    "# Example of list comprehension\n",
    "numbers = [1, 2, 3, 4, 5]\n",
    "kwadraty_liczb = [x**2 for x in numbers]\n",
    "# Example of list comprehension\n",
    "numbers = [1, 2, 3, 4, 5]\n",
    "kwadraty_liczb = [x**2 for x in numbers]\n",
    "print(kwadraty_liczb)\n",
    "\n",
    "# More examples of list comprehension\n",
    "# List of even numbers\n",
    "even_numbers = [x for x in numbers if x % 2 == 0]\n",
    "print(even_numbers)\n",
    "\n",
    "# List of tuples (number, square)\n",
    "number_square_tuples = [(x, x**2) for x in numbers]\n",
    "print(number_square_tuples)\n",
    "\n",
    "# List of strings with numbers\n",
    "number_strings = [f\"Number: {x}\" for x in numbers]\n",
    "print(number_strings)"
   ]
  },
  {
   "cell_type": "code",
   "execution_count": null,
   "metadata": {},
   "outputs": [],
   "source": []
  }
 ],
 "metadata": {
  "kernelspec": {
   "display_name": "Python 3",
   "language": "python",
   "name": "python3"
  },
  "language_info": {
   "codemirror_mode": {
    "name": "ipython",
    "version": 3
   },
   "file_extension": ".py",
   "mimetype": "text/x-python",
   "name": "python",
   "nbconvert_exporter": "python",
   "pygments_lexer": "ipython3",
   "version": "3.13.2"
  }
 },
 "nbformat": 4,
 "nbformat_minor": 2
}
