{
 "cells": [
  {
   "cell_type": "markdown",
   "metadata": {},
   "source": [
    "### Podstawowe operacje input/output"
   ]
  },
  {
   "cell_type": "code",
   "execution_count": null,
   "metadata": {},
   "outputs": [
    {
     "name": "stdout",
     "output_type": "stream",
     "text": [
      "Hello world\n",
      "Lowercase : damian\n",
      "Uppercase : DAMIAN\n",
      "Capitalized : Damian\n",
      "Separator :\t10\t20\t30 test\n",
      "0100 Damian 1.33 d\n",
      "I'm a raw string with newline character: \\n\n"
     ]
    }
   ],
   "source": [
    "# Output\n",
    "print(\"Hello world\")\n",
    "\n",
    "# Input\n",
    "name = input(\"What is your name? \")\n",
    "\n",
    "# String transpiling\n",
    "print( f\"Lowercase : {name.lower()}\" )\n",
    "\n",
    "# String concatenation\n",
    "print(\"Uppercase : \" + name.upper())\n",
    "\n",
    "# String formatting\n",
    "print(\"Capitalized : \" + name.capitalize())\n",
    "\n",
    "# String separator\n",
    "print(f\"Separator :\",10,20,30, sep='\\t', end=\"\"); print(\" test\") # separator, bez nowej linii tekstu\n",
    "\n",
    "# Formatowanie wydruku\n",
    "print( \"%04d %s %.2f %c\" % (100,\"Damian\", 1.3333, \"d\") ) # 0005\n",
    "\n",
    "print(r\"I'm a raw string with newline character: \\n\") # r - raw string, usefull for regex\n",
    "\n",
    "\n"
   ]
  }
 ],
 "metadata": {
  "language_info": {
   "name": "python"
  }
 },
 "nbformat": 4,
 "nbformat_minor": 2
}
