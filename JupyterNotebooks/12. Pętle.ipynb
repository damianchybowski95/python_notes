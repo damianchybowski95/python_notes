{
 "cells": [
  {
   "cell_type": "markdown",
   "metadata": {},
   "source": [
    "### Pętle"
   ]
  },
  {
   "cell_type": "code",
   "execution_count": null,
   "metadata": {},
   "outputs": [
    {
     "name": "stdout",
     "output_type": "stream",
     "text": [
      "While loop\n",
      "2 3 5 \n",
      "For loop\n",
      "5 6 7 8 9 \n",
      "Sposób iteracji listy używając pop\n",
      "1 2 3 4 5 6 7 8 9 10 \n",
      "Lista5:  []\n",
      "1 2 3 4 5 6 7 8 9 10 \n",
      "Lista6:  [1, 2, 3, 4, 5, 6, 7, 8, 9, 10]\n",
      "For in range\n",
      "1 2 3 4 5 6 7 8 9 "
     ]
    }
   ],
   "source": [
    "w1 = 1\n",
    "print(\"While loop\")\n",
    "while w1 < 5:    \n",
    "    w1 += 1\n",
    "    if( w1 == 4 ):\n",
    "        # break\n",
    "        continue\n",
    "    print(w1, end=\" \")\n",
    "\n",
    "print(\"\\nFor loop\")\n",
    "for x in range(5,10):\n",
    "    print(x, end=\" \")\n",
    "\n",
    "# sposoby iteracji listy\n",
    "print(\"\\nSposób iteracji listy używając pop\")\n",
    "list5= [1,2,3,4,5,6,7,8,9,10]\n",
    "while len(list5):\n",
    "    print(list5.pop(0), end=\" \")\n",
    "print(\"\\nLista5: \", list5)\n",
    "\n",
    "list6= [1,2,3,4,5,6,7,8,9,10]\n",
    "for x in list6:\n",
    "    print(x, end=\" \")\n",
    "print(\"\\nLista6: \", list6)\n",
    "\n",
    "\n",
    "print(\"For in range\")\n",
    "for x in range(1,10):    \n",
    "    print(x, end=\" \")\n",
    "    \n",
    "\n",
    "    "
   ]
  }
 ],
 "metadata": {
  "language_info": {
   "name": "python"
  }
 },
 "nbformat": 4,
 "nbformat_minor": 2
}
