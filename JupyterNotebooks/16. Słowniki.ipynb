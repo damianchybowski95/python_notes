{
 "cells": [
  {
   "cell_type": "markdown",
   "metadata": {},
   "source": [
    "### Słowniki - Pary właściwości i wartości, z unikalnymi kluczami."
   ]
  },
  {
   "cell_type": "code",
   "execution_count": null,
   "metadata": {},
   "outputs": [
    {
     "name": "stdout",
     "output_type": "stream",
     "text": [
      "2 Bruce Wayne\n",
      "{'Superman': 'Clark Kent', 'Batman': 'Bruce Wayne', 'Flash': 'Barry Allen'}\n",
      "[('Superman', 'Clark Kent'), ('Batman', 'Bruce Wayne'), ('Flash', 'Barry Allen')]\n",
      "['Superman', 'Batman', 'Flash']\n",
      "['Clark Kent', 'Bruce Wayne', 'Barry Allen']\n",
      "Bruce Wayne\n",
      "Superman Clark Kent\n",
      "Clark Kent\n",
      "Bread costs $0.88\n"
     ]
    }
   ],
   "source": [
    "heroes = {\n",
    "    \"Superman\" : \"Clark Kent\",\n",
    "    \"Batman\" : \"Bruce Wayne\",\n",
    "}\n",
    "\n",
    "villains = dict([\n",
    "    (\"Lex Luthor\", \"Lex Luthor\"),\n",
    "    (\"Joker\", \"Joker\"),\n",
    "])\n",
    "\n",
    "print(len(heroes),heroes[\"Batman\"])\n",
    "\n",
    "heroes[\"Flash\"] = \"Barry Allan\"\n",
    "heroes[\"Flash\"] = \"Barry Allen\"\n",
    "\n",
    "print(heroes)\n",
    "print(list(heroes.items()))\n",
    "print(list(heroes.keys()))\n",
    "print(list(heroes.values()))\n",
    "\n",
    "del heroes[\"Flash\"]\n",
    "print( heroes.pop(\"Batman\") )\n",
    "\n",
    "for k in heroes:\n",
    "    print(k, heroes[k])\n",
    "    \n",
    "for k in heroes.values():\n",
    "    print(k)\n",
    "    \n",
    "    \n",
    "# Formatowanie stringów w słowniku\n",
    "d1 = { \"name\" : \"Bread\", \"price\" : .88 }\n",
    "print(\"%(name)s costs $%(price).2f\" % d1)"
   ]
  }
 ],
 "metadata": {
  "language_info": {
   "name": "python"
  }
 },
 "nbformat": 4,
 "nbformat_minor": 2
}
