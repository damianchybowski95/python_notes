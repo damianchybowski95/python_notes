{
 "cells": [
  {
   "cell_type": "markdown",
   "metadata": {},
   "source": [
    "### Listy - zmienialna długość, wartości, oraz różne typy"
   ]
  },
  {
   "cell_type": "code",
   "execution_count": null,
   "metadata": {},
   "outputs": [
    {
     "name": "stdout",
     "output_type": "stream",
     "text": [
      "5\n",
      "[10, 20, False, 'Damian', 5.5]\n",
      "[10, 20, 20, 20, False, 'Damian', 5.5]\n",
      "[10, 20, 20, 20, False, 'Damian', 5.5, 'test1', 'test2']\n",
      "[10, 20, 20, 20, False, 'Damian', 5.5, 'test1']\n",
      "10 [20, 20, 20, False, 'Damian', 5.5, 'test1']\n",
      "[10, 20, 20, 20, False, 'Damian', 5.5, 'test1']\n",
      "2\n",
      "True\n",
      "True\n",
      "True\n",
      "Minimum:  1\n",
      "Maximum:  5\n",
      "Sum:  15\n",
      "[1, 3, 5, 7, 9]\n",
      "[10, 9, 8, 7, 6, 5, 4, 3, 2, 1]\n",
      "[2, 3, 4]\n"
     ]
    }
   ],
   "source": [
    "lista1 = [1,2,3,\"Damian\",5.5]\n",
    "print(len(lista1)) # Długość listy\n",
    "lista1[0] = 10 # Zmiana wartości\n",
    "lista1[1:3] = [20,False] # Zmiana wartości\n",
    "print(lista1)\n",
    "lista1[1:2] = [ 20, 20, 20 ] # Wklejenie wartości, zmieniając długość\n",
    "print(lista1)\n",
    "\n",
    "lista2 = lista1 + [ \"test1\", \"test2\" ] # Dodanie elementów\n",
    "print( lista2 )\n",
    "lista2.remove(\"test2\")\n",
    "print( lista2 )\n",
    "pop0 = lista2.pop(0) # Usunięcie elementu, zwracając usunięty element\n",
    "print( pop0, lista2 ) \n",
    "lista2 = [ pop0 ] + lista2 # Dodanie elementu na początku listy\n",
    "print( lista2 )\n",
    "\n",
    "\n",
    "lista3 = [[1,2,3],[4,5,6,6],[7,8,9],10]\n",
    "print( lista3[0][1] ) # Wybór elementu z listy z listą\n",
    "print( 10 in lista1 ) # Czy element jest w liście\n",
    "print( 1 in lista3[0] )\n",
    "print( 10 in lista3 )\n",
    "print(\"Minimum: \", min([1,2,3,4,5])) # Minimum\n",
    "print(\"Maximum: \", max([1,2,3,4,5])) # Maksimum\n",
    "print(\"Sum: \", sum([1,2,3,4,5])) # Suma\n",
    "\n",
    "lista4 = [1,2,3,4,5,6,7,8,9,10]\n",
    "print(lista4[::2]) # Co drugi element\n",
    "print(lista4[::-1]) # Odwrócenie listy\n",
    "print(lista4[1:4]) # Wybór elementów\n"
   ]
  }
 ],
 "metadata": {
  "language_info": {
   "name": "python"
  }
 },
 "nbformat": 4,
 "nbformat_minor": 2
}
