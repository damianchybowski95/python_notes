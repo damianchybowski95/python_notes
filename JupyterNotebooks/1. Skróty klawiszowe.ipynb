{
 "cells": [
  {
   "cell_type": "markdown",
   "metadata": {},
   "source": [
    "### Skróty klawiszowe Visual Studio code w Jupyter notebook  \n",
    "\n",
    "`CTRL` + `ENTER` - Uruchomienie komórki.  \n",
    "`Alt`-`Enter` - Nowa komórka jupyter notebook, tego samego typu co zaznaczona.  \n",
    "`Y` - Zmiana typu komórki na Code  \n",
    "`M` - Zmiana typu komórki na Markdown  \n",
    "`A` - Nowa komórka powyżej  \n",
    "`B` - Nowa komórka poniżej  \n",
    "`del` - Usuwa komórkę.\n"
   ]
  }
 ],
 "metadata": {
  "language_info": {
   "name": "python"
  }
 },
 "nbformat": 4,
 "nbformat_minor": 2
}
