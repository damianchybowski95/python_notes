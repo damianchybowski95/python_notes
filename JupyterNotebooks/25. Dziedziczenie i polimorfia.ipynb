{
 "cells": [
  {
   "cell_type": "markdown",
   "metadata": {},
   "source": [
    "### Przykład dziedziczenia i polimorfii"
   ]
  },
  {
   "cell_type": "code",
   "execution_count": 1,
   "metadata": {},
   "outputs": [
    {
     "name": "stdout",
     "output_type": "stream",
     "text": [
      "Buddy says Woof!\n",
      "Whiskers says Meow!\n"
     ]
    }
   ],
   "source": [
    "class Animal:\n",
    "    def __init__(self, name):\n",
    "        self.name = name\n",
    "        \n",
    "    def speak(self):\n",
    "        raise NotImplementedError(\"Subclass must implement abstract method\")\n",
    "\n",
    "class Dog(Animal):\n",
    "    def speak(self):\n",
    "        return f\"{self.name} says Woof!\"\n",
    "\n",
    "class Cat(Animal):\n",
    "    def speak(self):\n",
    "        return f\"{self.name} says Meow!\"\n",
    "\n",
    "# Example usage\n",
    "dog = Dog(\"Buddy\")\n",
    "cat = Cat(\"Whiskers\")\n",
    "print(dog.speak())  # Output: Buddy says Woof!\n",
    "print(cat.speak())  # Output: Whiskers says Meow!"
   ]
  },
  {
   "cell_type": "code",
   "execution_count": 33,
   "metadata": {},
   "outputs": [
    {
     "name": "stdout",
     "output_type": "stream",
     "text": [
      "paws: 4 is a number\n",
      "Buddy has 4 paws. Paws are provided as type <class 'int'>. Is instance of class Dog\n",
      "Buddy says Woof\n"
     ]
    }
   ],
   "source": [
    "class Animal:\n",
    "    def __init__(self,name,paws):\n",
    "        self._name = name\n",
    "        self._paws = paws\n",
    "    \n",
    "    @property\n",
    "    def name(self):\n",
    "        return self._name\n",
    "    \n",
    "    @name.setter\n",
    "    def name(self,name):\n",
    "        self._name = name\n",
    "    \n",
    "    @property\n",
    "    def paws(self):\n",
    "        return self._paws\n",
    "    \n",
    "    @paws.setter\n",
    "    def paws(self,paws):\n",
    "        if type(paws) == int or paws.isdigit():\n",
    "            print(f\"paws: {paws} is a number\")\n",
    "            self._paws = paws\n",
    "        else :\n",
    "            print(\"Paws must be a number\")\n",
    "    \n",
    "    def __str__(self):\n",
    "        return f\"{self.name} has {self.paws} paws. Paws are provided as type {type(self.paws)}. Is instance of class {type(self).__name__}\"\n",
    "\n",
    "class Dog(Animal):\n",
    "    def __init__(self, name, paws):\n",
    "        super().__init__(name, paws)\n",
    "        self._sound = \"Woof\" \n",
    "    \n",
    "    @property\n",
    "    def sound(self):\n",
    "        return self._sound    \n",
    "    \n",
    "    @sound.setter\n",
    "    def sound(self,sound):\n",
    "        self._sound = sound\n",
    "    \n",
    "    def speak(self):\n",
    "        return f\"{self.name} says {self.sound}\"\n",
    "\n",
    "\n",
    "dog = Dog(\"Buddy\",4)\n",
    "dog.paws = 4\n",
    "print( dog )\n",
    "print( dog.speak())\n",
    "\n",
    "    "
   ]
  }
 ],
 "metadata": {
  "kernelspec": {
   "display_name": "Python 3",
   "language": "python",
   "name": "python3"
  },
  "language_info": {
   "codemirror_mode": {
    "name": "ipython",
    "version": 3
   },
   "file_extension": ".py",
   "mimetype": "text/x-python",
   "name": "python",
   "nbconvert_exporter": "python",
   "pygments_lexer": "ipython3",
   "version": "3.13.2"
  }
 },
 "nbformat": 4,
 "nbformat_minor": 2
}
