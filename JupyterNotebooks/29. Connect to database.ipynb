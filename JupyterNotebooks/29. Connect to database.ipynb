{
 "cells": [
  {
   "cell_type": "markdown",
   "metadata": {},
   "source": [
    "### Praca z bazą danych, działającej w pamięci RAM"
   ]
  },
  {
   "cell_type": "code",
   "execution_count": 1,
   "metadata": {},
   "outputs": [
    {
     "name": "stdout",
     "output_type": "stream",
     "text": [
      "(1, 'Alice', 30)\n",
      "(2, 'Bob', 25)\n",
      "(3, 'Charlie', 35)\n"
     ]
    }
   ],
   "source": [
    "import sqlite3\n",
    "\n",
    "# Connect to an in-memory database\n",
    "connection = sqlite3.connect(':memory:')\n",
    "\n",
    "# Create a cursor object using the cursor() method\n",
    "cursor = connection.cursor()\n",
    "\n",
    "# Create a table\n",
    "cursor.execute('''\n",
    "CREATE TABLE users (\n",
    "    id INTEGER PRIMARY KEY,\n",
    "    name TEXT NOT NULL,\n",
    "    age INTEGER NOT NULL\n",
    ")\n",
    "''')\n",
    "\n",
    "# Insert some data\n",
    "cursor.execute('''\n",
    "INSERT INTO users (name, age) VALUES\n",
    "('Alice', 30),\n",
    "('Bob', 25),\n",
    "('Charlie', 35)\n",
    "''')\n",
    "\n",
    "# Commit the changes\n",
    "connection.commit()\n",
    "\n",
    "# Query the data\n",
    "cursor.execute('SELECT * FROM users')\n",
    "rows = cursor.fetchall()\n",
    "\n",
    "# Print the data\n",
    "for row in rows:\n",
    "    print(row)\n",
    "\n",
    "# Close the connection\n",
    "connection.close()"
   ]
  }
 ],
 "metadata": {
  "kernelspec": {
   "display_name": "Python 3",
   "language": "python",
   "name": "python3"
  },
  "language_info": {
   "codemirror_mode": {
    "name": "ipython",
    "version": 3
   },
   "file_extension": ".py",
   "mimetype": "text/x-python",
   "name": "python",
   "nbconvert_exporter": "python",
   "pygments_lexer": "ipython3",
   "version": "3.13.2"
  }
 },
 "nbformat": 4,
 "nbformat_minor": 2
}
