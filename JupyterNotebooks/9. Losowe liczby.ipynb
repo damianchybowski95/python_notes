{
 "cells": [
  {
   "cell_type": "markdown",
   "metadata": {},
   "source": [
    "### Losowe liczby"
   ]
  },
  {
   "cell_type": "code",
   "execution_count": null,
   "metadata": {},
   "outputs": [
    {
     "name": "stdout",
     "output_type": "stream",
     "text": [
      "Random number between 0 and 1:  1\n",
      "Random number between 0 and 1:  0.713777044666556\n",
      "Random choice:  2\n",
      "nieskończoność : inf\n",
      "nieskończoność > 0 : True\n",
      "nieskończoność : nan\n"
     ]
    }
   ],
   "source": [
    "import math\n",
    "import random\n",
    "\n",
    "\n",
    "print(\"Random number between 0 and 1: \", random.randint(1,100)) # Losowa liczba całkowita\n",
    "print(\"Random number between 0 and 1: \", random.random()) # Losowa liczba zmiennoprzecinkowa, między 0 a 1\n",
    "print(\"Random choice: \", random.choice([1,2,3,4,5])) # Losowy wybór z listy\n",
    "\n",
    "print( \"nieskończoność :\", math.inf )\n",
    "print( \"nieskończoność > 0 :\", math.inf > 0 )\n",
    "print( \"nieskończoność :\", math.inf - math.inf )"
   ]
  }
 ],
 "metadata": {
  "language_info": {
   "name": "python"
  }
 },
 "nbformat": 4,
 "nbformat_minor": 2
}
