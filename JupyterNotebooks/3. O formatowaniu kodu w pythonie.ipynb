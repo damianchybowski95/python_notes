{
 "cells": [
  {
   "cell_type": "markdown",
   "metadata": {},
   "source": [
    "### Poprawne formatowanie kodu"
   ]
  },
  {
   "cell_type": "code",
   "execution_count": null,
   "metadata": {},
   "outputs": [
    {
     "name": "stdout",
     "output_type": "stream",
     "text": [
      "print v1: 3\n",
      "V2 is not 6\n",
      "V2 =  6\n"
     ]
    }
   ],
   "source": [
    "v1 = 1\n",
    "v1 = \"1\"; v2 = 2; v1 = 3 # Poprawnie formatowane polecenia\n",
    "print( f\"print v1: {v1}\" )\n",
    "\n",
    "# Tab formuje bloki kodu\n",
    "if v2 == 6:\n",
    "    print(\"V2 is 6\")\n",
    "else:\n",
    "    print(\"V2 is not 6\")\n",
    "\n",
    "\"\"\"\n",
    "To jest komentarz, który może być wieloliniowy\n",
    "\"\"\"\n",
    "v2 = ( # Nadal poprawnie formatowane polecenia\n",
    "    1\n",
    "    + 2\n",
    "    + 3\n",
    ")\n",
    "print( \"V2 = \", v2 )\n",
    "\n"
   ]
  }
 ],
 "metadata": {
  "language_info": {
   "name": "python"
  }
 },
 "nbformat": 4,
 "nbformat_minor": 2
}
