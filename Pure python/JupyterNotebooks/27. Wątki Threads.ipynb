{
 "cells": [
  {
   "cell_type": "markdown",
   "metadata": {},
   "source": [
    "### Wątki pythonie\n",
    "\n",
    "Przykład zastosowania wątków w pythonie."
   ]
  },
  {
   "cell_type": "code",
   "execution_count": 1,
   "metadata": {},
   "outputs": [
    {
     "name": "stdout",
     "output_type": "stream",
     "text": [
      "0\n",
      "a\n",
      "b1\n",
      "\n",
      "2\n",
      "c\n",
      "d3\n",
      "\n",
      "e4\n",
      "\n",
      "5\n",
      "f\n",
      "6g\n",
      "\n",
      "h\n",
      "7\n",
      "i\n",
      "8\n",
      "j\n",
      "9\n",
      "Wszystkie wątki zakończone\n"
     ]
    }
   ],
   "source": [
    "import threading\n",
    "import time\n",
    "\n",
    "def print_numbers():\n",
    "    for i in range(10):\n",
    "        print(i)\n",
    "        time.sleep(1)\n",
    "\n",
    "def print_letters():\n",
    "    for letter in 'abcdefghij':\n",
    "        print(letter)\n",
    "        time.sleep(1)\n",
    "\n",
    "# Tworzenie wątków\n",
    "thread1 = threading.Thread(target=print_numbers)\n",
    "thread2 = threading.Thread(target=print_letters)\n",
    "\n",
    "# Uruchamianie wątków\n",
    "thread1.start()\n",
    "thread2.start()\n",
    "\n",
    "# Oczekiwanie na zakończenie wątków\n",
    "thread1.join()\n",
    "thread2.join()\n",
    "\n",
    "\n",
    "print(\"Wszystkie wątki zakończone\")"
   ]
  }
 ],
 "metadata": {
  "kernelspec": {
   "display_name": "Python 3",
   "language": "python",
   "name": "python3"
  },
  "language_info": {
   "codemirror_mode": {
    "name": "ipython",
    "version": 3
   },
   "file_extension": ".py",
   "mimetype": "text/x-python",
   "name": "python",
   "nbconvert_exporter": "python",
   "pygments_lexer": "ipython3",
   "version": "3.13.2"
  }
 },
 "nbformat": 4,
 "nbformat_minor": 2
}
