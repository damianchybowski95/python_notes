{
 "cells": [
  {
   "cell_type": "markdown",
   "metadata": {},
   "source": [
    "### Functions"
   ]
  },
  {
   "cell_type": "code",
   "execution_count": null,
   "metadata": {},
   "outputs": [
    {
     "name": "stdout",
     "output_type": "stream",
     "text": [
      "3.5\n",
      "21\n",
      "6 7\n",
      "3*5 =  15\n",
      "0\n",
      "4\n",
      "8\n",
      "12\n",
      "16\n",
      "[<function <lambda> at 0x000002052B184540>, <function <lambda> at 0x000002052AFB68E0>, <function <lambda> at 0x000002052AFB6480>]\n"
     ]
    }
   ],
   "source": [
    "# Przykład funkcji, który jest nieczytelny??\n",
    "def get_sum( num1 : int = 1, num2 : int = 1): \n",
    "    return num1 + num2\n",
    "print( get_sum(2.5) )\n",
    "\n",
    "def get_sum2(*args):\n",
    "    sum = 0\n",
    "    for arg in args:\n",
    "        sum += arg\n",
    "    return sum\n",
    "print(get_sum2(1,2,3,4,5,6))\n",
    "\n",
    "\n",
    "def next_2(num):\n",
    "    return num + 1, num + 2\n",
    "i1, i2 = next_2(5)\n",
    "print( i1, i2 )\n",
    "\n",
    "\n",
    "def mult_by(num): \n",
    "    return lambda x: x * num # Funkcja lambda, anonimowa\n",
    "print(\"3*5 = \", mult_by(3)(5))\n",
    "\n",
    "\n",
    "# ?? Przekazywanie funkcji jako argument do funkcji.\n",
    "def mult_list(list,func):\n",
    "    for x in list:\n",
    "        print(func(x))\n",
    "\n",
    "mult_by_4 = mult_by(4)\n",
    "mult_list(list(range(0,5)), mult_by_4)\n",
    "\n",
    "\n",
    "power_list = [lambda x: x ** 2, lambda x: x ** 3, lambda x: x ** 4]\n",
    "print( power_list )\n"
   ]
  }
 ],
 "metadata": {
  "language_info": {
   "name": "python"
  }
 },
 "nbformat": 4,
 "nbformat_minor": 2
}
