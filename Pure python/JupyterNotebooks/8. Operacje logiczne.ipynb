{
 "cells": [
  {
   "cell_type": "markdown",
   "metadata": {},
   "source": []
  },
  {
   "cell_type": "markdown",
   "metadata": {},
   "source": [
    "### Notatka o operatorach logicznych w Pythonie\n",
    "\n",
    "Operatorzy logiczni w Pythonie są używani do wykonywania operacji logicznych na wartościach boolowskich (True lub False). Oto najczęściej używane operatory logiczne:\n",
    "\n",
    "1. **and** - Zwraca True, jeśli oba operandy są prawdziwe.\n",
    "    ```python\n",
    "    print(True and True)   # True\n",
    "    print(True and False)  # False\n",
    "    print(False and False) # False\n",
    "    ```\n",
    "\n",
    "2. **or** - Zwraca True, jeśli przynajmniej jeden z operandów jest prawdziwy.\n",
    "    ```python\n",
    "    print(True or True)    # True\n",
    "    print(True or False)   # True\n",
    "    print(False or False)  # False\n",
    "    ```\n",
    "\n",
    "3. **not** - Zwraca odwrotność wartości operand.\n",
    "    ```python\n",
    "    print(not True)  # False\n",
    "    print(not False) # True\n",
    "    ```\n",
    "\n",
    "#### Przykłady:\n",
    "\n",
    "1. **and:**\n",
    "    ```python\n",
    "    wiek = 20\n",
    "    print(wiek > 18 and wiek < 30)  # True\n",
    "    print(wiek > 18 and wiek > 30)  # False\n",
    "    ```\n",
    "\n",
    "2. **or:**\n",
    "    ```python\n",
    "    wiek = 20\n",
    "    print(wiek > 18 or wiek < 30)  # True\n",
    "    print(wiek > 18 or wiek > 30)  # True\n",
    "    print(wiek < 18 or wiek > 30)  # False\n",
    "    ```\n",
    "\n",
    "3. **not:**\n",
    "    ```python\n",
    "    wiek = 20\n",
    "    print(not (wiek > 18))  # False\n",
    "    print(not (wiek < 18))  # True\n",
    "    ```\n",
    "\n",
    "Operatorzy logiczni są bardzo przydatni do wykonywania złożonych warunków w instrukcjach sterujących, takich jak instrukcje if, while i for."
   ]
  },
  {
   "cell_type": "code",
   "execution_count": 1,
   "metadata": {},
   "outputs": [
    {
     "name": "stdout",
     "output_type": "stream",
     "text": [
      "You are too young to drive\n",
      "Enjoy your time\n"
     ]
    }
   ],
   "source": [
    "age = 10\n",
    "if age > 18 :\n",
    "    print(\"You are old enough to drive\")\n",
    "elif age < 18 :\n",
    "    print(\"You are too young to drive\")    \n",
    "else :\n",
    "    print(\"You are just old enough to drive\")\n",
    "    \n",
    "if age <= 5 :\n",
    "    print(\"Stay at home\")\n",
    "elif age >= 18 and age < 65:\n",
    "    print(\"Go to work\")\n",
    "elif 1 == 1 or 2 == 2 :\n",
    "    print(\"Enjoy your time\")\n",
    "else :\n",
    "    print(\"Have a good day\")"
   ]
  },
  {
   "cell_type": "markdown",
   "metadata": {},
   "source": [
    "### Notatka o \"in\" w Pythonie\n",
    "\n",
    "Operator `in` w Pythonie jest używany do sprawdzania, czy dany element znajduje się w sekwencji (takiej jak lista, krotka, łańcuch znaków, zbiór lub słownik).\n",
    "\n",
    "#### Przykłady:\n",
    "\n",
    "1. **Listy:**\n",
    "    ```python\n",
    "    lista = [1, 2, 3, 4, 5]\n",
    "    print(3 in lista)  # True\n",
    "    print(6 in lista)  # False\n",
    "    ```\n",
    "\n",
    "2. **Krotki:**\n",
    "    ```python\n",
    "    krotka = (1, 2, 3, 4, 5)\n",
    "    print(3 in krotka)  # True\n",
    "    print(6 in krotka)  # False\n",
    "    ```\n",
    "\n",
    "3. **Łańcuchy znaków:**\n",
    "    ```python\n",
    "    tekst = \"Hello, world!\"\n",
    "    print(\"Hello\" in tekst)  # True\n",
    "    print(\"hello\" in tekst)  # False (Python rozróżnia wielkość liter)\n",
    "    ```\n",
    "\n",
    "4. **Zbiory:**\n",
    "    ```python\n",
    "    zbior = {1, 2, 3, 4, 5}\n",
    "    print(3 in zbior)  # True\n",
    "    print(6 in zbior)  # False\n",
    "    ```\n",
    "\n",
    "5. **Słowniki:**\n",
    "    ```python\n",
    "    slownik = {\"klucz1\": \"wartosc1\", \"klucz2\": \"wartosc2\"}\n",
    "    print(\"klucz1\" in slownik)  # True (sprawdza tylko klucze)\n",
    "    print(\"wartosc1\" in slownik)  # False\n",
    "    ```\n",
    "\n",
    "Operator `in` jest bardzo przydatny do sprawdzania przynależności elementów w różnych typach danych w Pythonie."
   ]
  }
 ],
 "metadata": {
  "kernelspec": {
   "display_name": "Python 3",
   "language": "python",
   "name": "python3"
  },
  "language_info": {
   "codemirror_mode": {
    "name": "ipython",
    "version": 3
   },
   "file_extension": ".py",
   "mimetype": "text/x-python",
   "name": "python",
   "nbconvert_exporter": "python",
   "pygments_lexer": "ipython3",
   "version": "3.13.2"
  }
 },
 "nbformat": 4,
 "nbformat_minor": 2
}
