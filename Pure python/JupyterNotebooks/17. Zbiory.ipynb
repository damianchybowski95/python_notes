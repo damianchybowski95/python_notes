{
 "cells": [
  {
   "cell_type": "markdown",
   "metadata": {},
   "source": [
    "### Zbiór / Set - Unordered, unique values, immutable values"
   ]
  },
  {
   "cell_type": "code",
   "execution_count": null,
   "metadata": {},
   "outputs": [
    {
     "name": "stdout",
     "output_type": "stream",
     "text": [
      "<class 'set'>\n",
      "{'Derek', 1, 5}\n",
      "{'Derek', 1, 5, 'test'}\n",
      "{'Derek', 1, 5, 'test'}\n",
      "{'Derek', 1}\n",
      "set()\n"
     ]
    }
   ],
   "source": [
    "s1 = set([\"Derek\",1])\n",
    "s2 = {\"Derek\",1,5}\n",
    "print(type(s2))\n",
    "\n",
    "s3 = s1 | s2 # Suma zbiorów, unia, połączenie\n",
    "print(s3)\n",
    "\n",
    "s3.add(\"test\")\n",
    "print(s3)\n",
    "print(s3)\n",
    "\n",
    "print(s1.intersection(s2))\n",
    "print(s1.difference(s2))\n",
    "\n",
    "s4 = frozenset(s3)\n",
    "\n"
   ]
  }
 ],
 "metadata": {
  "language_info": {
   "name": "python"
  }
 },
 "nbformat": 4,
 "nbformat_minor": 2
}
