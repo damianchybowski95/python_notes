{
 "cells": [
  {
   "cell_type": "markdown",
   "metadata": {},
   "source": [
    "### Reduce"
   ]
  },
  {
   "cell_type": "markdown",
   "metadata": {},
   "source": [
    "### Notatka o funkcji reduce w Pythonie\n",
    "\n",
    "Funkcja `reduce` jest częścią modułu `functools` w Pythonie. Służy do zastosowania funkcji do wszystkich elementów iterowalnych (np. listy) w celu zredukowania ich do pojedynczej wartości. "
   ]
  },
  {
   "cell_type": "code",
   "execution_count": null,
   "metadata": {},
   "outputs": [],
   "source": [
    "from functools import reduce\n",
    "\n",
    "# Example function to use with reduce\n",
    "def add(x, y):\n",
    "    return x + y\n",
    "\n",
    "# List of numbers\n",
    "numbers = [1, 2, 3, 4, 5]\n",
    "\n",
    "# Using reduce to sum the list of numbers\n",
    "result = reduce(add, numbers)\n",
    "print(result)  # Output: 15"
   ]
  }
 ],
 "metadata": {
  "kernelspec": {
   "display_name": "Python 3",
   "language": "python",
   "name": "python3"
  },
  "language_info": {
   "codemirror_mode": {
    "name": "ipython",
    "version": 3
   },
   "file_extension": ".py",
   "mimetype": "text/x-python",
   "name": "python",
   "nbconvert_exporter": "python",
   "pygments_lexer": "ipython3",
   "version": "3.13.2"
  }
 },
 "nbformat": 4,
 "nbformat_minor": 2
}
