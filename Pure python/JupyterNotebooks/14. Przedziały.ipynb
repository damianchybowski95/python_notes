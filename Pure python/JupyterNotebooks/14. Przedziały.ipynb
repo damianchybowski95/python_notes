{
 "cells": [
  {
   "cell_type": "markdown",
   "metadata": {},
   "source": [
    "### Ranges"
   ]
  },
  {
   "cell_type": "code",
   "execution_count": null,
   "metadata": {},
   "outputs": [
    {
     "name": "stdout",
     "output_type": "stream",
     "text": [
      "Print:  [0, 1, 2, 3, 4, 5, 6, 7, 8, 9]\n",
      "Print:  [0, 2, 4, 6, 8]\n",
      "1 2 3 \n",
      "10 20 30 40 \n",
      "100 200 300 \n"
     ]
    }
   ],
   "source": [
    "print( \"Print: \", list(range(0,10)))\n",
    "print( \"Print: \", list(range(0,10,2)))\n",
    "\n",
    "lista8 = [[1,2,3],[10,20,30, 40],[100,200,300]]\n",
    "for x in range(0,len(lista8)):\n",
    "    for y in range(0,len(lista8[x])):\n",
    "        print(lista8[x][y], end=\" \")\n",
    "    print()\n"
   ]
  }
 ],
 "metadata": {
  "language_info": {
   "name": "python"
  }
 },
 "nbformat": 4,
 "nbformat_minor": 2
}
