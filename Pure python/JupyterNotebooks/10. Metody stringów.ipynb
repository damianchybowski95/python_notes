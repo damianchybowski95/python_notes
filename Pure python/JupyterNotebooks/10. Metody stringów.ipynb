{
 "cells": [
  {
   "cell_type": "markdown",
   "metadata": {},
   "source": [
    "### Metody stringów"
   ]
  },
  {
   "cell_type": "code",
   "execution_count": null,
   "metadata": {},
   "outputs": [
    {
     "name": "stdout",
     "output_type": "stream",
     "text": [
      "Lenght of 'Hello World':  11\n",
      "first occurence of 'o' in 'Hello World':  4\n",
      "Count of 'o' in 'Hello World':  2\n",
      "First letter is 'Hello World':  H\n",
      "Last letter is 'Hello World':  d\n",
      "pierwsze 5 znaków 'Hello World':  Hello\n",
      "Co drugi znak 'Hello World':  HloWrd\n",
      "Co drugi znak pierwszych 5 liter 'Hello world' Hlo\n",
      "replace 'World' with 'Universe':  Hello Universe\n",
      "Edit case:  HELLO WORLD hello world\n",
      "Remove whitespace:  Hello World\n",
      "Zmiana wielkości pierwszej litery:  HEllo World\n",
      "Czy Hello jest w Hello World: True\n",
      "Hello World\n",
      "[' ']\n",
      "HELLO WORLD\n",
      "hello world\n",
      "False\n"
     ]
    }
   ],
   "source": [
    "print(\"Lenght of 'Hello World': \", len(\"Hello World\")) # Długość ciągu znaków\n",
    "print(\"first occurence of 'o' in 'Hello World': \", \"Hello World\".index(\"o\")) # Pierwsze wystąpienie znaku\n",
    "print(\"Count of 'o' in 'Hello World': \", \"Hello World\".count(\"o\")) # Liczba wystąpień znaku\n",
    "print(\"First letter is 'Hello World': \", \"Hello World\"[0]) # Pierwszy znak\n",
    "print(\"Last letter is 'Hello World': \", \"Hello World\"[-1]) # Ostatni znak\n",
    "print(\"pierwsze 5 znaków 'Hello World': \", \"Hello World\"[0:5]) # Pierwsze 5 znaków\n",
    "print(\"Co drugi znak 'Hello World': \", \"Hello World\"[::2]) # Co drugi znak\n",
    "print(\"Co drugi znak pierwszych 5 liter 'Hello world'\", \"Hello World\"[0:5:2]) # Co drugi znak pierwszych 5 liter\n",
    "print(\"replace 'World' with 'Universe': \", \"Hello World\".replace(\"World\", \"Universe\")) # Zamiana ciągu znaków\n",
    "print(\"Edit case: \", \"Hello World\".upper(), \"Hello World\".lower()) # Zmiana wielkości liter\n",
    "print(\"Remove whitespace: \", \" Hello World \".strip()) # Usunięcie białych znaków\n",
    "\n",
    "# Ważny przykład do zrozumienia; [ :1 ] - pierwsza litera, [ 2: ] - od trzeciej litery do końca\n",
    "str = \"Hello World\"\n",
    "print(\"Zmiana wielkości pierwszej litery: \", str[:1] + \"E\" + str[2:] ) # Zmiana wielkości pierwszej litery\n",
    "print( f\"Czy Hello jest w Hello World: {\"Hello\" in str}\"  )\n",
    "print(\" \".join([\"Hello\", \"World\"])) # Łączenie ciągów znaków\n",
    "print(\" \".split(\"Hello World\")) # Dzielenie ciągu znaków\n",
    "\n",
    "print(str.upper()) # Zamiana na wielkie litery\n",
    "print(str.lower()) # Zamiana na małe litery\n",
    "print(str.isdigit()) # Czy ciąg znaków jest liczbą\n"
   ]
  }
 ],
 "metadata": {
  "language_info": {
   "name": "python"
  }
 },
 "nbformat": 4,
 "nbformat_minor": 2
}
