{
 "cells": [
  {
   "cell_type": "markdown",
   "metadata": {},
   "source": [
    "### Typy zmiennych i ich maksymalne wartości"
   ]
  },
  {
   "cell_type": "code",
   "execution_count": null,
   "metadata": {},
   "outputs": [
    {
     "name": "stdout",
     "output_type": "stream",
     "text": [
      "Zmienna o wartości 10 : <class 'int'>\n",
      "Maksymalna wartość zmiennej: 9223372036854775807\n",
      "maksymalna wartość zmiennej float: 1.7976931348623157e+308\n",
      "Liczba złożona / zespolona : (5+6j) <class 'complex'>\n",
      "Stringi ze specjalnymi znakami: Hello world \"' \"Python 1.py\"\n",
      "Rzutowanie 5.4 na int :  5 <class 'int'>\n",
      "Rzutowanie 5.4 na float :  5.4 <class 'float'>\n",
      "Rzutowanie 5.4 na string :  5.4 <class 'str'>\n",
      "Rzutuwanie 100 na char :  d <class 'str'>\n",
      "Rzutowanie 'd' na ord / int :  100 <class 'int'>\n"
     ]
    }
   ],
   "source": [
    "import sys\n",
    "_integer = 10 # Zmienne są dynamicznie typowane. Zmienne integer, liczby naturalne nie mają maksymalnej wartości*.\n",
    "print(f\"Zmienna o wartości 10 : {type(_integer)}\") # typ zmiennej\n",
    "print( f\"Maksymalna wartość zmiennej: {sys.maxsize}\" ) # maksymalna wartość zmiennej\n",
    "print(f\"maksymalna wartość zmiennej float: {sys.float_info.max}\") # maksymalna wartość zmiennej float. Kalkulacje mogą tracić precyzje przy długości 15 cyfr po przecinku.\n",
    "v2 = 5 +6j # Zmienne complex, liczby zespolone\n",
    "print(f\"Liczba złożona / zespolona : {v2} {type(v2)}\") # typ zmiennej complex\n",
    "_boolean = True; _boolean = False # Zmienne boolean, wartości logiczne\n",
    "_string = \"Hello world \\\"'\" # Zmienne string, ciągi znaków\n",
    "stringZeSpecjalnymi = '''\"Python 1.py\"'''; \n",
    "print( \"Stringi ze specjalnymi znakami: \" + _string, stringZeSpecjalnymi )\n",
    "\n",
    "# rzutowanie zmiennych\n",
    "print(\"Rzutowanie 5.4 na int : \", int(5.4), type(int(5.4))) # rzutowanie na int\n",
    "print(\"Rzutowanie 5.4 na float : \", float(5.4), type(float(5.4))) # rzutowanie na float\n",
    "print(\"Rzutowanie 5.4 na string : \", str(5.4), type(str(5.4))) # rzutowanie na string\n",
    "print(\"Rzutuwanie 100 na char : \", chr(100), type(chr(100))) # rzutowanie na char\n",
    "print(\"Rzutowanie 'd' na ord / int : \", ord('d'), type(ord('d'))) # rzutowanie na int\n",
    "\n",
    "\n",
    "\n"
   ]
  }
 ],
 "metadata": {
  "language_info": {
   "name": "python"
  }
 },
 "nbformat": 4,
 "nbformat_minor": 2
}
