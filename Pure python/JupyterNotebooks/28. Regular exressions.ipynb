{
 "cells": [
  {
   "cell_type": "markdown",
   "metadata": {},
   "source": [
    "# Notatka o wyrażeniach regularnych w Pythonie\n",
    "\n",
    "Wyrażenia regularne (ang. regular expressions, regex) to potężne narzędzie do wyszukiwania i manipulowania tekstem. W Pythonie do pracy z wyrażeniami regularnymi używamy modułu `re`.\n",
    "\n",
    "## Podstawowe operacje\n",
    "\n",
    "1. **Importowanie modułu `re`**:\n",
    "    ```python\n",
    "    ```\n",
    "\n",
    "2. **Dopasowywanie wzorca**:\n",
    "    ```python\n",
    "    pattern = r'\\d+'  # Wzorzec do dopasowania jednej lub więcej cyfr\n",
    "    text = \"123 abc 456\"\n",
    "    match = re.search(pattern, text)\n",
    "    if match:\n",
    "        print(\"Znaleziono dopasowanie:\", match.group())\n",
    "    ```\n",
    "\n",
    "3. **Znajdowanie wszystkich dopasowań**:\n",
    "    ```python\n",
    "    matches = re.findall(pattern, text)\n",
    "    print(\"Wszystkie dopasowania:\", matches)\n",
    "    ```\n",
    "\n",
    "4. **Zamiana tekstu**:\n",
    "    ```python\n",
    "    new_text = re.sub(pattern, 'NUM', text)\n",
    "    print(\"Tekst po zamianie:\", new_text)\n",
    "    ```\n",
    "\n",
    "5. **Podział tekstu**:\n",
    "    ```python\n",
    "    split_text = re.split(r'\\s+', text)  # Podział tekstu na podstawie białych znaków\n",
    "    print(\"Podzielony tekst:\", split_text)\n",
    "    ```\n",
    "\n",
    "## Przykłady wzorców\n",
    "\n",
    "- `\\d` - dowolna cyfra\n",
    "- `\\D` - dowolny znak niebędący cyfrą\n",
    "- `\\w` - dowolny znak alfanumeryczny\n",
    "- `\\W` - dowolny znak niealfanumeryczny\n",
    "- `\\s` - dowolny biały znak (spacja, tabulator, nowa linia)\n",
    "- `\\S` - dowolny znak niebędący białym znakiem\n",
    "- `.` - dowolny znak z wyjątkiem nowej linii\n",
    "- `^` - początek linii\n",
    "- `$` - koniec linii\n",
    "- `[...]` - dowolny znak z podanego zakresu\n",
    "- `[^...]` - dowolny znak spoza podanego zakresu\n",
    "- `*` - zero lub więcej wystąpień\n",
    "- `+` - jedno lub więcej wystąpień\n",
    "- `?` - zero lub jedno wystąpienie\n",
    "- `{n}` - dokładnie n wystąpień\n",
    "- `{n,}` - n lub więcej wystąpień\n",
    "- `{n,m}` - od n do m wystąpień\n",
    "\n",
    "## Przykłady użycia\n",
    "\n",
    "1. **Sprawdzanie formatu adresu e-mail**:\n",
    "    ```python\n",
    "    email_pattern = r'^[a-zA-Z0-9_.+-]+@[a-zA-Z0-9-]+\\.[a-zA-Z0-9-.]+$'\n",
    "    email = \"example@example.com\"\n",
    "    if re.match(email_pattern, email):\n",
    "        print(\"Poprawny adres e-mail\")\n",
    "    else:\n",
    "        print(\"Niepoprawny adres e-mail\")\n",
    "    ```\n",
    "\n",
    "2. **Wydobywanie numerów telefonów**:\n",
    "    ```python\n",
    "    phone_pattern = r'\\+?\\d[\\d -]{8,12}\\d'\n",
    "    text = \"Moje numery to +48 123 456 789 oraz 987-654-321.\"\n",
    "    phones = re.findall(phone_pattern, text)\n",
    "    print(\"Znalezione numery telefonów:\", phones)\n",
    "    ```\n",
    "\n",
    "Wyrażenia regularne są niezwykle przydatne w wielu zadaniach związanych z przetwarzaniem tekstu, takich jak walidacja danych, parsowanie plików tekstowych, czy wyszukiwanie i zamiana fragmentów tekstu."
   ]
  },
  {
   "cell_type": "code",
   "execution_count": 7,
   "metadata": {},
   "outputs": [
    {
     "name": "stdout",
     "output_type": "stream",
     "text": [
      "example@example.com - Poprawny adres e-mail\n"
     ]
    }
   ],
   "source": [
    "import re\n",
    "\n",
    "# Wzorzec dla adresu e-mail\n",
    "email_pattern = r'^[a-zA-Z0-9_.+-]+@[a-zA-Z0-9-]+\\.[a-zA-Z0-9-.]+$'\n",
    "\n",
    "# Przykładowy adres e-mail\n",
    "email = \"example@example.com\"\n",
    "\n",
    "# Sprawdzanie, czy adres e-mail jest poprawny\n",
    "if re.match(email_pattern, email):\n",
    "    print( email + \" - Poprawny adres e-mail\")\n",
    "else:\n",
    "    print(\"Niepoprawny adres e-mail\")"
   ]
  }
 ],
 "metadata": {
  "kernelspec": {
   "display_name": "Python 3",
   "language": "python",
   "name": "python3"
  },
  "language_info": {
   "codemirror_mode": {
    "name": "ipython",
    "version": 3
   },
   "file_extension": ".py",
   "mimetype": "text/x-python",
   "name": "python",
   "nbconvert_exporter": "python",
   "pygments_lexer": "ipython3",
   "version": "3.13.2"
  }
 },
 "nbformat": 4,
 "nbformat_minor": 2
}
