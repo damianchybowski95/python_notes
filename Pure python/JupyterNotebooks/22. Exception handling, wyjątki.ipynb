{
 "cells": [
  {
   "cell_type": "markdown",
   "metadata": {},
   "source": [
    "# Obsługa wyjątków w Pythonie\n",
    "\n",
    "Obsługa wyjątków w Pythonie pozwala na zarządzanie błędami, które mogą wystąpić podczas wykonywania programu. Dzięki temu możemy zapobiec awariom programu i odpowiednio zareagować na różne sytuacje błędne.\n",
    "\n",
    "## Podstawowe konstrukcje\n",
    "\n",
    "### Try i Except\n",
    "\n",
    "Podstawową konstrukcją do obsługi wyjątków jest blok `try` i `except`:"
   ]
  },
  {
   "cell_type": "code",
   "execution_count": 3,
   "metadata": {},
   "outputs": [
    {
     "name": "stdout",
     "output_type": "stream",
     "text": [
      "Nie można dzielić przez zero!\n"
     ]
    }
   ],
   "source": [
    "try:\n",
    "    # próbujemy wykonać kod, który może spowodować wyjątek\n",
    "    result = 10 / 0\n",
    "except ZeroDivisionError:\n",
    "    # kod, który zostanie wykonany, jeśli wystąpi wyjątek ZeroDivisionError\n",
    "    print(\"Nie można dzielić przez zero!\")"
   ]
  },
  {
   "cell_type": "markdown",
   "metadata": {},
   "source": [
    "### Lista błędów które da się obsłużyć z pomocą except"
   ]
  },
  {
   "cell_type": "code",
   "execution_count": null,
   "metadata": {},
   "outputs": [],
   "source": [
    "try:\n",
    "    # próbujemy wykonać kod, który może spowodować wyjątek\n",
    "    result = 10 / 0\n",
    "except ZeroDivisionError:\n",
    "    print(\"Nie można dzielić przez zero!\")\n",
    "except ValueError:\n",
    "    print(\"Nieprawidłowa wartość!\")\n",
    "except TypeError:\n",
    "    print(\"Nieprawidłowy typ danych!\")\n",
    "except FileNotFoundError:\n",
    "    print(\"Plik nie został znaleziony!\")\n",
    "except IndexError:\n",
    "    print(\"Indeks poza zakresem!\")\n",
    "except KeyError:\n",
    "    print(\"Nieprawidłowy klucz w słowniku!\")\n",
    "except Exception as e:\n",
    "    print(f\"Wystąpił nieoczekiwany błąd: {e}\")"
   ]
  }
 ],
 "metadata": {
  "kernelspec": {
   "display_name": "Python 3",
   "language": "python",
   "name": "python3"
  },
  "language_info": {
   "codemirror_mode": {
    "name": "ipython",
    "version": 3
   },
   "file_extension": ".py",
   "mimetype": "text/x-python",
   "name": "python",
   "nbconvert_exporter": "python",
   "pygments_lexer": "ipython3",
   "version": "3.13.2"
  }
 },
 "nbformat": 4,
 "nbformat_minor": 2
}
