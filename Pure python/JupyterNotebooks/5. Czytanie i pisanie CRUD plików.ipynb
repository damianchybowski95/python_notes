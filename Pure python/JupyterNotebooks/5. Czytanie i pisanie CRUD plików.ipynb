{
 "cells": [
  {
   "cell_type": "markdown",
   "metadata": {},
   "source": [
    "CRUD to skrót od Create, Read, Update, Delete, czyli operacji, które można wykonywać na danych. W kontekście plików tekstowych w Pythonie, CRUD oznacza:\n",
    "\n",
    "- **Create**: Tworzenie nowego pliku tekstowego i zapisywanie w nim danych.\n",
    "- **Read**: Odczytywanie danych z pliku tekstowego.\n",
    "- **Update**: Aktualizowanie danych w pliku tekstowym.\n",
    "- **Delete**: Usuwanie pliku tekstowego.\n",
    "\n",
    "Poniżej znajdują się przykłady kodu w Pythonie, które pokazują, jak wykonać każdą z tych operacji.\n"
   ]
  },
  {
   "cell_type": "markdown",
   "metadata": {},
   "source": [
    "### Create - Tworzenie nowego pliku"
   ]
  },
  {
   "cell_type": "code",
   "execution_count": 41,
   "metadata": {},
   "outputs": [
    {
     "name": "stdout",
     "output_type": "stream",
     "text": [
      "File created and data written successfully.\n"
     ]
    }
   ],
   "source": [
    "import os\n",
    "\n",
    "# Check if the file exists before creating it\n",
    "if not os.path.exists('example.txt'):\n",
    "    with open('example.txt', 'w') as file:\n",
    "        file.write('This is an example of creating a new text file.\\n')\n",
    "        file.write('You can write multiple lines of text.\\n')\n",
    "    print(\"File created and data written successfully.\")\n",
    "else:\n",
    "    print(\"File already exists.\")"
   ]
  },
  {
   "cell_type": "markdown",
   "metadata": {},
   "source": [
    "### Reading file"
   ]
  },
  {
   "cell_type": "code",
   "execution_count": 27,
   "metadata": {},
   "outputs": [
    {
     "name": "stdout",
     "output_type": "stream",
     "text": [
      "This is an example of creating a new text file.\n",
      "You can write multiple lines of text.\n",
      "\n"
     ]
    }
   ],
   "source": [
    "if os.path.exists('example.txt'):\n",
    "    with open('example.txt', 'r') as file:\n",
    "        content = file.read()\n",
    "        print(content)\n",
    "else:\n",
    "    print(\"File does not exist.\")"
   ]
  },
  {
   "cell_type": "markdown",
   "metadata": {},
   "source": [
    "### Update file"
   ]
  },
  {
   "cell_type": "code",
   "execution_count": 24,
   "metadata": {},
   "outputs": [
    {
     "name": "stdout",
     "output_type": "stream",
     "text": [
      "File updated successfully.\n"
     ]
    }
   ],
   "source": [
    "if os.path.exists('example.txt'):\n",
    "    with open('example.txt', 'a') as file:\n",
    "        file.write('This is an additional line of text.\\n')\n",
    "    print(\"File updated successfully.\")\n",
    "else:\n",
    "    print(\"File does not exist.\")"
   ]
  },
  {
   "cell_type": "markdown",
   "metadata": {},
   "source": [
    "### Deleting a line"
   ]
  },
  {
   "cell_type": "code",
   "execution_count": 26,
   "metadata": {},
   "outputs": [
    {
     "name": "stdout",
     "output_type": "stream",
     "text": [
      "Last line deleted successfully.\n"
     ]
    }
   ],
   "source": [
    "if os.path.exists('example.txt'):\n",
    "    with open('example.txt', 'r') as file:\n",
    "        lines = file.readlines()\n",
    "    \n",
    "    # Remove the last line\n",
    "    if lines:\n",
    "        lines = lines[:-1]\n",
    "    \n",
    "    with open('example.txt', 'w') as file:\n",
    "        file.writelines(lines)\n",
    "    \n",
    "    print(\"Last line deleted successfully.\")\n",
    "else:\n",
    "    print(\"File does not exist.\")"
   ]
  },
  {
   "cell_type": "markdown",
   "metadata": {},
   "source": [
    "### Deleting a file"
   ]
  },
  {
   "cell_type": "code",
   "execution_count": 39,
   "metadata": {},
   "outputs": [
    {
     "name": "stdout",
     "output_type": "stream",
     "text": [
      "File does not exist.\n"
     ]
    }
   ],
   "source": [
    "if os.path.exists('example.txt'):\n",
    "    os.remove('example.txt')\n",
    "    print(\"File deleted successfully.\")\n",
    "else:\n",
    "    print(\"File does not exist.\")"
   ]
  },
  {
   "cell_type": "markdown",
   "metadata": {},
   "source": [
    "### OpenTextMode\n",
    "\n",
    "W Pythonie, tryb otwierania pliku tekstowego określa, w jaki sposób plik będzie używany po jego otwarciu. Najczęściej używane tryby to:\n",
    "\n",
    "- `'r'` (read): Otwiera plik do odczytu. Plik musi istnieć, w przeciwnym razie zostanie zgłoszony błąd.\n",
    "- `'w'` (write): Otwiera plik do zapisu. Jeśli plik istnieje, jego zawartość zostanie nadpisana. Jeśli plik nie istnieje, zostanie utworzony nowy plik.\n",
    "- `'a'` (append): Otwiera plik do dopisywania. Jeśli plik istnieje, nowe dane zostaną dopisane na końcu pliku. Jeśli plik nie istnieje, zostanie utworzony nowy plik.\n",
    "- `'r+'` (read and write): Otwiera plik do odczytu i zapisu. Plik musi istnieć, w przeciwnym razie zostanie zgłoszony błąd.\n",
    "- `'w+'` (write and read): Otwiera plik do zapisu i odczytu. Jeśli plik istnieje, jego zawartość zostanie nadpisana. Jeśli plik nie istnieje, zostanie utworzony nowy plik.\n",
    "- `'a+'` (append and read): Otwiera plik do dopisywania i odczytu. Jeśli plik istnieje, nowe dane zostaną dopisane na końcu pliku. Jeśli plik nie istnieje, zostanie utworzony nowy plik.\n",
    "\n",
    "Przykład użycia trybu otwierania pliku:"
   ]
  },
  {
   "cell_type": "markdown",
   "metadata": {},
   "source": [
    "### Przykład używania trybu otwierania plików \"r+\""
   ]
  },
  {
   "cell_type": "code",
   "execution_count": 45,
   "metadata": {},
   "outputs": [
    {
     "name": "stdout",
     "output_type": "stream",
     "text": [
      "Current content of the file:\n",
      "This is new content written in w+ mode.\n",
      "\n",
      "Updated content of the file:\n",
      "This is new content written in r+ mode. It overrides the first line\n",
      "\n"
     ]
    }
   ],
   "source": [
    "if os.path.exists('example.txt'):\n",
    "    with open('example.txt', 'r+') as file:\n",
    "        # Read the current content\n",
    "        content = file.read()\n",
    "        print(\"Current content of the file:\")\n",
    "        print(content)\n",
    "        \n",
    "        # Move the cursor to the beginning of the file\n",
    "        file.seek(0)\n",
    "        \n",
    "        # Write new content\n",
    "        file.write('This is new content written in r+ mode. It overrides the first line\\n')\n",
    "        \n",
    "        # Move the cursor to the beginning of the file again\n",
    "        file.seek(0)\n",
    "        \n",
    "        # Read the updated content\n",
    "        updated_content = file.read()\n",
    "        print(\"Updated content of the file:\")\n",
    "        print(updated_content)\n",
    "else:\n",
    "    print(\"File does not exist.\")"
   ]
  },
  {
   "cell_type": "markdown",
   "metadata": {},
   "source": [
    "### Przykład używania trybu otwierania plików \"w+\""
   ]
  },
  {
   "cell_type": "code",
   "execution_count": 52,
   "metadata": {},
   "outputs": [
    {
     "name": "stdout",
     "output_type": "stream",
     "text": [
      "Updated content of the file in w+ mode:\n",
      "This is new content written in w+ mode.\n",
      "\n"
     ]
    }
   ],
   "source": [
    "# Using 'w+' mode to open the file\n",
    "with open('example.txt', 'w+') as file:\n",
    "    # Write new content to the file\n",
    "    file.write('This is new content written in w+ mode.\\n')\n",
    "    \n",
    "    # Move the cursor to the beginning of the file\n",
    "    file.seek(0)\n",
    "    \n",
    "    # Read the updated content\n",
    "    updated_content_w_plus = file.read()\n",
    "    print(\"Updated content of the file in w+ mode:\")\n",
    "    print(updated_content_w_plus)"
   ]
  },
  {
   "cell_type": "markdown",
   "metadata": {},
   "source": [
    "### Przykład używania trybu otwierania plików \"a+\""
   ]
  },
  {
   "cell_type": "code",
   "execution_count": 56,
   "metadata": {},
   "outputs": [
    {
     "name": "stdout",
     "output_type": "stream",
     "text": [
      "Updated content of the file in a+ mode:\n",
      "This is new content written in w+ mode.\n",
      "This is new content written in a+ mode.\n",
      "This is new content written in a+ mode.\n",
      "This is new content written in a+ mode.\n",
      "This is new content written in a+ mode.\n",
      "\n"
     ]
    }
   ],
   "source": [
    "# Using 'a+' mode to open the file\n",
    "with open('example.txt', 'a+') as file:\n",
    "    # Write new content to the file\n",
    "    file.write('This is new content written in a+ mode.\\n')\n",
    "    \n",
    "    # Move the cursor to the beginning of the file\n",
    "    file.seek(0)    \n",
    "    \n",
    "    # Read the updated content\n",
    "    updated_content_a_plus = file.read()\n",
    "    print(\"Updated content of the file in a+ mode:\")\n",
    "    print(updated_content_a_plus)"
   ]
  }
 ],
 "metadata": {
  "kernelspec": {
   "display_name": "Python 3",
   "language": "python",
   "name": "python3"
  },
  "language_info": {
   "codemirror_mode": {
    "name": "ipython",
    "version": 3
   },
   "file_extension": ".py",
   "mimetype": "text/x-python",
   "name": "python",
   "nbconvert_exporter": "python",
   "pygments_lexer": "ipython3",
   "version": "3.13.2"
  }
 },
 "nbformat": 4,
 "nbformat_minor": 2
}
