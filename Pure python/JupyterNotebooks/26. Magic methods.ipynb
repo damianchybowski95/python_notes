{
 "cells": [
  {
   "cell_type": "markdown",
   "metadata": {},
   "source": [
    "### Notatka o magic methods w Pythonie\n",
    "\n",
    "Magic methods, znane również jako dunder methods (od double underscore), to specjalne metody w Pythonie, które zaczynają się i kończą podwójnym podkreśleniem (`__`). Są one używane do definiowania zachowań dla różnych operacji na obiektach, takich jak dodawanie, odejmowanie, porównywanie, reprezentacja tekstowa itp.\n",
    "\n",
    "Służą przeładowaniu operatorów takich jak dodawanie, odejmowanie, czy reprezentacja tekstowa\n",
    "\n",
    "Przykłady magic methods:\n",
    "- `__init__(self, ...)` - konstruktor klasy\n",
    "- `__str__(self)` - reprezentacja tekstowa obiektu\n",
    "- `__repr__(self)` - oficjalna reprezentacja obiektu\n",
    "- `__add__(self, other)` - dodawanie dwóch obiektów\n",
    "- `__sub__(self,other)` - odejmowanie obiektów\n",
    "- `__mul__(self,other)` - mnożenie obiektów\n",
    "- `__div__(self,other)` - dzielenie obiektów\n",
    "- `__eq__(self, other)` - porównywanie dwóch obiektów\n",
    "- `__gt__(self,other)` - większy od obiektów\n",
    "- `__lt__(self,other)` - mniejszy od obiektów\n",
    "- `__le__(self,other)` - mniejszy lub równy obiektowi\n",
    "- `__ge__(self,other)` - większy lub równy obiektowi\n",
    "\n",
    "\n",
    "Przykład użycia magic methods:"
   ]
  },
  {
   "cell_type": "code",
   "execution_count": 2,
   "metadata": {},
   "outputs": [
    {
     "name": "stdout",
     "output_type": "stream",
     "text": [
      "Vector(7, 10)\n"
     ]
    }
   ],
   "source": [
    "class Vector:\n",
    "    def __init__(self, x, y):\n",
    "        self.x = x\n",
    "        self.y = y\n",
    "\n",
    "    def __add__(self, other):\n",
    "        return Vector(self.x + other.x, self.y + other.y)\n",
    "\n",
    "    def __repr__(self):\n",
    "        return f\"Vector({self.x}, {self.y})\"\n",
    "\n",
    "# Create two vectors\n",
    "v1 = Vector(2, 3)\n",
    "v2 = Vector(5, 7)\n",
    "\n",
    "# Add the vectors using the magic method __add__\n",
    "v3 = v1 + v2\n",
    "\n",
    "# Print the result using the magic method __repr__\n",
    "print(v3)"
   ]
  },
  {
   "cell_type": "code",
   "execution_count": null,
   "metadata": {},
   "outputs": [],
   "source": []
  }
 ],
 "metadata": {
  "kernelspec": {
   "display_name": "Python 3",
   "language": "python",
   "name": "python3"
  },
  "language_info": {
   "codemirror_mode": {
    "name": "ipython",
    "version": 3
   },
   "file_extension": ".py",
   "mimetype": "text/x-python",
   "name": "python",
   "nbconvert_exporter": "python",
   "pygments_lexer": "ipython3",
   "version": "3.13.2"
  }
 },
 "nbformat": 4,
 "nbformat_minor": 2
}
